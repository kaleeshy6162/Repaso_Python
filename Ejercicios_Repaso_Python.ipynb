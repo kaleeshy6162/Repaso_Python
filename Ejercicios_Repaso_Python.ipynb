{
 "cells": [
  {
   "cell_type": "markdown",
   "metadata": {},
   "source": [
    "# Listas"
   ]
  },
  {
   "cell_type": "code",
   "execution_count": 1,
   "metadata": {},
   "outputs": [],
   "source": [
    "# 1. Crear una lista: Crea una lista con cinco colores diferentes.\n",
    "colores = [\"rojo\", \"verde\", \"azul\", \"amarillo\", \"naranja\"]\n"
   ]
  },
  {
   "cell_type": "code",
   "execution_count": 2,
   "metadata": {},
   "outputs": [
    {
     "data": {
      "text/plain": [
       "'azul'"
      ]
     },
     "execution_count": 2,
     "metadata": {},
     "output_type": "execute_result"
    }
   ],
   "source": [
    "# Acceder a elementos: Accede al tercer elemento de la lista de colores.\n",
    "tercer_color = colores[2]\n",
    "tercer_color"
   ]
  },
  {
   "cell_type": "code",
   "execution_count": 3,
   "metadata": {},
   "outputs": [
    {
     "data": {
      "text/plain": [
       "['rojo', 'blanco', 'azul', 'amarillo', 'naranja']"
      ]
     },
     "execution_count": 3,
     "metadata": {},
     "output_type": "execute_result"
    }
   ],
   "source": [
    "# Modificar elementos: Cambia el segundo color de la lista por otro de tu elección.\n",
    "colores[1] = \"blanco\" \n",
    "colores\n"
   ]
  },
  {
   "cell_type": "code",
   "execution_count": 4,
   "metadata": {},
   "outputs": [
    {
     "data": {
      "text/plain": [
       "['rojo', 'blanco', 'azul', 'rosa', 'amarillo', 'naranja', 'negro']"
      ]
     },
     "execution_count": 4,
     "metadata": {},
     "output_type": "execute_result"
    }
   ],
   "source": [
    "# 4. Agregar elementos: Agrega dos colores nuevos a la lista.\n",
    "colores.append(\"negro\")  # Agrega \"negro\" al final de la lista\n",
    "colores.insert(3, \"rosa\")  # Agrega \"rosa\" en la posición 3\n",
    "colores"
   ]
  },
  {
   "cell_type": "code",
   "execution_count": 5,
   "metadata": {},
   "outputs": [
    {
     "data": {
      "text/plain": [
       "['rojo', 'blanco', 'azul', 'amarillo', 'naranja', 'negro']"
      ]
     },
     "execution_count": 5,
     "metadata": {},
     "output_type": "execute_result"
    }
   ],
   "source": [
    "# 5. Eliminar elementos: Elimina el cuarto color de la lista.\n",
    "colores.pop(3) \n",
    "colores"
   ]
  },
  {
   "cell_type": "code",
   "execution_count": 6,
   "metadata": {},
   "outputs": [
    {
     "data": {
      "text/plain": [
       "6"
      ]
     },
     "execution_count": 6,
     "metadata": {},
     "output_type": "execute_result"
    }
   ],
   "source": [
    "# 6. Longitud de la lista: Encuentra la longitud de la lista de colores.\n",
    "longitud = len(colores)\n",
    "longitud"
   ]
  },
  {
   "cell_type": "code",
   "execution_count": 7,
   "metadata": {},
   "outputs": [
    {
     "data": {
      "text/plain": [
       "['amarillo', 'azul', 'blanco', 'naranja', 'negro', 'rojo']"
      ]
     },
     "execution_count": 7,
     "metadata": {},
     "output_type": "execute_result"
    }
   ],
   "source": [
    "# 7. Ordenar la lista: Ordena la lista de colores en orden alfabético.\n",
    "colores.sort() \n",
    "colores"
   ]
  },
  {
   "cell_type": "code",
   "execution_count": 8,
   "metadata": {},
   "outputs": [
    {
     "data": {
      "text/plain": [
       "[['manzana', 'pera', 'plátano'], ['fresa', 'uva', 'mango']]"
      ]
     },
     "execution_count": 8,
     "metadata": {},
     "output_type": "execute_result"
    }
   ],
   "source": [
    "# 8. Listas anidadas: Crea una lista de dos sublistas, cada una con tres nombres de frutas.\n",
    "frutas = [[\"manzana\", \"pera\", \"plátano\"], [\"fresa\", \"uva\", \"mango\"]]\n",
    "frutas\n"
   ]
  },
  {
   "cell_type": "code",
   "execution_count": 9,
   "metadata": {},
   "outputs": [
    {
     "data": {
      "text/plain": [
       "['manzana', 'pera', 'plátano', 'fresa', 'uva', 'mango']"
      ]
     },
     "execution_count": 9,
     "metadata": {},
     "output_type": "execute_result"
    }
   ],
   "source": [
    "# 9. Concatenar listas: Concatena las dos sublistas en una sola lista de frutas.\n",
    "lista_de_frutas = frutas[0] + frutas[1]\n",
    "lista_de_frutas"
   ]
  },
  {
   "cell_type": "code",
   "execution_count": 10,
   "metadata": {},
   "outputs": [
    {
     "data": {
      "text/plain": [
       "['manzana',\n",
       " 'pera',\n",
       " 'plátano',\n",
       " 'fresa',\n",
       " 'uva',\n",
       " 'mango',\n",
       " 'manzana',\n",
       " 'pera',\n",
       " 'plátano',\n",
       " 'fresa',\n",
       " 'uva',\n",
       " 'mango',\n",
       " 'manzana',\n",
       " 'pera',\n",
       " 'plátano',\n",
       " 'fresa',\n",
       " 'uva',\n",
       " 'mango']"
      ]
     },
     "execution_count": 10,
     "metadata": {},
     "output_type": "execute_result"
    }
   ],
   "source": [
    "# 10. Repetir elementos: Repite la lista de frutas tres veces para obtener una lista más larga.\n",
    "lista_repetida = lista_de_frutas * 3\n",
    "lista_repetida"
   ]
  },
  {
   "cell_type": "code",
   "execution_count": 11,
   "metadata": {},
   "outputs": [
    {
     "data": {
      "text/plain": [
       "['manzana', 'pera', 'plátano']"
      ]
     },
     "execution_count": 11,
     "metadata": {},
     "output_type": "execute_result"
    }
   ],
   "source": [
    "# 11. Acceder a la primera lista de frutas:\n",
    "primera_lista = frutas[0]\n",
    "primera_lista"
   ]
  },
  {
   "cell_type": "code",
   "execution_count": 12,
   "metadata": {},
   "outputs": [
    {
     "data": {
      "text/plain": [
       "['fresa', 'uva', 'mango']"
      ]
     },
     "execution_count": 12,
     "metadata": {},
     "output_type": "execute_result"
    }
   ],
   "source": [
    "# 12. Acceder a la segunda lista de frutas:\n",
    "segunda_lista = frutas[1]\n",
    "segunda_lista"
   ]
  },
  {
   "cell_type": "code",
   "execution_count": 13,
   "metadata": {},
   "outputs": [
    {
     "data": {
      "text/plain": [
       "'manzana'"
      ]
     },
     "execution_count": 13,
     "metadata": {},
     "output_type": "execute_result"
    }
   ],
   "source": [
    "# 13. Acceder a la primera fruta de la primera lista:\n",
    "primera_fruta = frutas[0][0]\n",
    "primera_fruta"
   ]
  },
  {
   "cell_type": "code",
   "execution_count": 14,
   "metadata": {},
   "outputs": [
    {
     "data": {
      "text/plain": [
       "'mango'"
      ]
     },
     "execution_count": 14,
     "metadata": {},
     "output_type": "execute_result"
    }
   ],
   "source": [
    "#14. Acceder a la última fruta de la segunda lista:\n",
    "ultima_fruta = frutas[1][-1]\n",
    "ultima_fruta"
   ]
  },
  {
   "cell_type": "code",
   "execution_count": 15,
   "metadata": {},
   "outputs": [
    {
     "data": {
      "text/plain": [
       "'pera'"
      ]
     },
     "execution_count": 15,
     "metadata": {},
     "output_type": "execute_result"
    }
   ],
   "source": [
    "# 15. Acceder a la segunda fruta de la primera lista:\n",
    "segunda_fruta = frutas[0][1]\n",
    "segunda_fruta"
   ]
  },
  {
   "cell_type": "code",
   "execution_count": 16,
   "metadata": {},
   "outputs": [
    {
     "data": {
      "text/plain": [
       "'plátano'"
      ]
     },
     "execution_count": 16,
     "metadata": {},
     "output_type": "execute_result"
    }
   ],
   "source": [
    "# 16. Acceder a la última fruta de la primera lista:\n",
    "ultima_fruta_primera_lista = frutas[0][-1]\n",
    "ultima_fruta_primera_lista"
   ]
  },
  {
   "cell_type": "code",
   "execution_count": 17,
   "metadata": {},
   "outputs": [
    {
     "data": {
      "text/plain": [
       "3"
      ]
     },
     "execution_count": 17,
     "metadata": {},
     "output_type": "execute_result"
    }
   ],
   "source": [
    "# 17. Acceder a la longitud de la segunda lista de frutas:\n",
    "longitud_segunda_lista = len(frutas[1])\n",
    "longitud_segunda_lista"
   ]
  },
  {
   "cell_type": "code",
   "execution_count": 18,
   "metadata": {},
   "outputs": [
    {
     "data": {
      "text/plain": [
       "['fresa', 'uva']"
      ]
     },
     "execution_count": 18,
     "metadata": {},
     "output_type": "execute_result"
    }
   ],
   "source": [
    "# 18. Acceder a una porción de la segunda lista (slicing):\n",
    "porcion_segunda_lista = frutas[1][:2]\n",
    "porcion_segunda_lista"
   ]
  },
  {
   "cell_type": "code",
   "execution_count": 19,
   "metadata": {},
   "outputs": [
    {
     "data": {
      "text/plain": [
       "[['manzana', 'pera', 'plátano'], ['fresa', 'ciruela', 'mango']]"
      ]
     },
     "execution_count": 19,
     "metadata": {},
     "output_type": "execute_result"
    }
   ],
   "source": [
    "#19. Cambiar la segunda fruta de la segunda lista:\n",
    "frutas[1][1] = \"ciruela\"\n",
    "frutas"
   ]
  },
  {
   "cell_type": "code",
   "execution_count": 20,
   "metadata": {},
   "outputs": [
    {
     "data": {
      "text/plain": [
       "[['manzana', 'pera', 'plátano', 'kiwi'], ['fresa', 'ciruela', 'mango']]"
      ]
     },
     "execution_count": 20,
     "metadata": {},
     "output_type": "execute_result"
    }
   ],
   "source": [
    "# 20. Agregar una nueva fruta a la primera lista:\n",
    "frutas[0].append(\"kiwi\")\n",
    "frutas"
   ]
  },
  {
   "cell_type": "markdown",
   "metadata": {},
   "source": [
    "# Tuplas"
   ]
  },
  {
   "cell_type": "code",
   "execution_count": 21,
   "metadata": {},
   "outputs": [
    {
     "data": {
      "text/plain": [
       "(1, 2, 3, 4, 5)"
      ]
     },
     "execution_count": 21,
     "metadata": {},
     "output_type": "execute_result"
    }
   ],
   "source": [
    "# 1. Crear una tupla:\n",
    "mi_tupla = (1, 2, 3, 4, 5)\n",
    "mi_tupla"
   ]
  },
  {
   "cell_type": "code",
   "execution_count": 22,
   "metadata": {},
   "outputs": [
    {
     "data": {
      "text/plain": [
       "1"
      ]
     },
     "execution_count": 22,
     "metadata": {},
     "output_type": "execute_result"
    }
   ],
   "source": [
    "# Acceder al primer elemento:\n",
    "primer_elemento = mi_tupla[0]\n",
    "primer_elemento"
   ]
  },
  {
   "cell_type": "code",
   "execution_count": 23,
   "metadata": {},
   "outputs": [
    {
     "data": {
      "text/plain": [
       "5"
      ]
     },
     "execution_count": 23,
     "metadata": {},
     "output_type": "execute_result"
    }
   ],
   "source": [
    "# 3. Acceder al último elemento:\n",
    "ultimo_elemento = mi_tupla[-1]\n",
    "ultimo_elemento"
   ]
  },
  {
   "cell_type": "code",
   "execution_count": 24,
   "metadata": {},
   "outputs": [
    {
     "data": {
      "text/plain": [
       "(2, 3, 4)"
      ]
     },
     "execution_count": 24,
     "metadata": {},
     "output_type": "execute_result"
    }
   ],
   "source": [
    "# 4. Acceder a un rango de elementos:\n",
    "sub_tupla = mi_tupla[1:4]\n",
    "sub_tupla"
   ]
  },
  {
   "cell_type": "code",
   "execution_count": 25,
   "metadata": {},
   "outputs": [
    {
     "data": {
      "text/plain": [
       "(1, 2, 3, 4, 5, 6, 7, 8)"
      ]
     },
     "execution_count": 25,
     "metadata": {},
     "output_type": "execute_result"
    }
   ],
   "source": [
    "# 5. Concatenar dos tuplas:\n",
    "otra_tupla = (6, 7, 8)\n",
    "tupla_concatenada = mi_tupla + otra_tupla\n",
    "tupla_concatenada"
   ]
  },
  {
   "cell_type": "code",
   "execution_count": 26,
   "metadata": {},
   "outputs": [
    {
     "data": {
      "text/plain": [
       "8"
      ]
     },
     "execution_count": 26,
     "metadata": {},
     "output_type": "execute_result"
    }
   ],
   "source": [
    "# 6. Encontrar la longitud:\n",
    "longitud = len(tupla_concatenada)\n",
    "longitud"
   ]
  },
  {
   "cell_type": "code",
   "execution_count": 27,
   "metadata": {},
   "outputs": [
    {
     "data": {
      "text/plain": [
       "False"
      ]
     },
     "execution_count": 27,
     "metadata": {},
     "output_type": "execute_result"
    }
   ],
   "source": [
    "# 7. Buscar un elemento: \n",
    "elemento_buscado = \"manzana\"\n",
    "esta_presente = elemento_buscado in mi_tupla\n",
    "esta_presente"
   ]
  },
  {
   "cell_type": "code",
   "execution_count": 28,
   "metadata": {},
   "outputs": [
    {
     "data": {
      "text/plain": [
       "0"
      ]
     },
     "execution_count": 28,
     "metadata": {},
     "output_type": "execute_result"
    }
   ],
   "source": [
    "# 8. Contar elementos: \n",
    "elemento_contar = \"pera\"\n",
    "contador = mi_tupla.count(elemento_contar) \n",
    "contador"
   ]
  },
  {
   "cell_type": "code",
   "execution_count": 29,
   "metadata": {},
   "outputs": [
    {
     "name": "stdout",
     "output_type": "stream",
     "text": [
      "Juan\n",
      "Pérez\n"
     ]
    }
   ],
   "source": [
    "# 9. Desempaquetar una tupla: \n",
    "nombre_apellido = (\"Juan\", \"Pérez\")\n",
    "nombre, apellido = nombre_apellido\n",
    "print(nombre)\n",
    "print(apellido)"
   ]
  },
  {
   "cell_type": "code",
   "execution_count": 30,
   "metadata": {},
   "outputs": [
    {
     "data": {
      "text/plain": [
       "(10, 20, 30)"
      ]
     },
     "execution_count": 30,
     "metadata": {},
     "output_type": "execute_result"
    }
   ],
   "source": [
    "# 10. Convertir una lista en tupla:\n",
    "lista_numeros = [10, 20, 30]\n",
    "tupla_desde_lista = tuple(lista_numeros)\n",
    "tupla_desde_lista"
   ]
  },
  {
   "cell_type": "markdown",
   "metadata": {},
   "source": [
    "# Diccionarios\n"
   ]
  },
  {
   "cell_type": "code",
   "execution_count": 31,
   "metadata": {},
   "outputs": [
    {
     "data": {
      "text/plain": [
       "{'apellido': 'Lopez'}"
      ]
     },
     "execution_count": 31,
     "metadata": {},
     "output_type": "execute_result"
    }
   ],
   "source": [
    "# 1. Crear un diccionario:\n",
    "mi_diccionario = {\"apellido\": \"Lopez\"}\n",
    "mi_diccionario"
   ]
  },
  {
   "cell_type": "code",
   "execution_count": 32,
   "metadata": {},
   "outputs": [
    {
     "data": {
      "text/plain": [
       "{'apellido': 'Lopez', 'nombre': 'Juan'}"
      ]
     },
     "execution_count": 32,
     "metadata": {},
     "output_type": "execute_result"
    }
   ],
   "source": [
    "# 2. Agregar elementos:\n",
    "mi_diccionario[\"nombre\"] = \"Juan\"\n",
    "mi_diccionario"
   ]
  },
  {
   "cell_type": "code",
   "execution_count": 33,
   "metadata": {},
   "outputs": [
    {
     "data": {
      "text/plain": [
       "'Juan'"
      ]
     },
     "execution_count": 33,
     "metadata": {},
     "output_type": "execute_result"
    }
   ],
   "source": [
    "# 3. Acceder a un valor:\n",
    "valor = mi_diccionario[\"nombre\"]\n",
    "valor"
   ]
  },
  {
   "cell_type": "code",
   "execution_count": 34,
   "metadata": {},
   "outputs": [
    {
     "data": {
      "text/plain": [
       "{'apellido': 'Lopez', 'nombre': 'Ana'}"
      ]
     },
     "execution_count": 34,
     "metadata": {},
     "output_type": "execute_result"
    }
   ],
   "source": [
    "# 4. Modificar un valor:\n",
    "\n",
    "mi_diccionario[\"nombre\"] = \"Ana\"\n",
    "mi_diccionario"
   ]
  },
  {
   "cell_type": "code",
   "execution_count": 35,
   "metadata": {},
   "outputs": [
    {
     "data": {
      "text/plain": [
       "{'apellido': 'Lopez'}"
      ]
     },
     "execution_count": 35,
     "metadata": {},
     "output_type": "execute_result"
    }
   ],
   "source": [
    "# 5. Eliminar un elemento:\n",
    "del mi_diccionario[\"nombre\"]\n",
    "mi_diccionario\n"
   ]
  },
  {
   "cell_type": "code",
   "execution_count": 36,
   "metadata": {},
   "outputs": [
    {
     "data": {
      "text/plain": [
       "True"
      ]
     },
     "execution_count": 36,
     "metadata": {},
     "output_type": "execute_result"
    }
   ],
   "source": [
    "# 6. Verificar existencia:\n",
    "existe_apellido = \"apellido\" in mi_diccionario\n",
    "existe_apellido"
   ]
  },
  {
   "cell_type": "code",
   "execution_count": 37,
   "metadata": {},
   "outputs": [
    {
     "data": {
      "text/plain": [
       "['apellido']"
      ]
     },
     "execution_count": 37,
     "metadata": {},
     "output_type": "execute_result"
    }
   ],
   "source": [
    "# 7. Obtener todas las claves:\n",
    "\n",
    "claves = list(mi_diccionario.keys())\n",
    "claves\n"
   ]
  },
  {
   "cell_type": "code",
   "execution_count": 38,
   "metadata": {},
   "outputs": [
    {
     "data": {
      "text/plain": [
       "['Lopez']"
      ]
     },
     "execution_count": 38,
     "metadata": {},
     "output_type": "execute_result"
    }
   ],
   "source": [
    "# 8. Obtener todos los valores:\n",
    "valores = list(mi_diccionario.values())\n",
    "valores\n"
   ]
  },
  {
   "cell_type": "code",
   "execution_count": 39,
   "metadata": {},
   "outputs": [
    {
     "name": "stdout",
     "output_type": "stream",
     "text": [
      "apellido Lopez\n"
     ]
    }
   ],
   "source": [
    "# 9. Recorrer el diccionario:\n",
    "\n",
    "for clave, valor in mi_diccionario.items():\n",
    "    print(clave, valor)\n"
   ]
  },
  {
   "cell_type": "code",
   "execution_count": 40,
   "metadata": {},
   "outputs": [
    {
     "data": {
      "text/plain": [
       "1"
      ]
     },
     "execution_count": 40,
     "metadata": {},
     "output_type": "execute_result"
    }
   ],
   "source": [
    "# 10. Longitud del diccionario:\n",
    "\n",
    "longitud = len(mi_diccionario)\n",
    "longitud"
   ]
  },
  {
   "cell_type": "code",
   "execution_count": 41,
   "metadata": {},
   "outputs": [
    {
     "data": {
      "text/plain": [
       "{'apellido': 'Lopez'}"
      ]
     },
     "execution_count": 41,
     "metadata": {},
     "output_type": "execute_result"
    }
   ],
   "source": [
    "# 11. Copiar un diccionario:\n",
    "\n",
    "copia_diccionario = mi_diccionario.copy()\n",
    "copia_diccionario"
   ]
  },
  {
   "cell_type": "code",
   "execution_count": 42,
   "metadata": {},
   "outputs": [
    {
     "data": {
      "text/plain": [
       "{}"
      ]
     },
     "execution_count": 42,
     "metadata": {},
     "output_type": "execute_result"
    }
   ],
   "source": [
    "# 12. Eliminar elementos:\n",
    "copia_diccionario.clear()\n",
    "copia_diccionario\n"
   ]
  },
  {
   "cell_type": "code",
   "execution_count": 43,
   "metadata": {},
   "outputs": [],
   "source": [
    "# 13. Combinar diccionarios:\n",
    "\n",
    "diccionario_combinado = mi_diccionario.update(copia_diccionario)\n",
    "diccionario_combinado\n"
   ]
  },
  {
   "cell_type": "code",
   "execution_count": 44,
   "metadata": {},
   "outputs": [
    {
     "data": {
      "text/plain": [
       "'Desconocida'"
      ]
     },
     "execution_count": 44,
     "metadata": {},
     "output_type": "execute_result"
    }
   ],
   "source": [
    "# 14. Obtener valor predeterminado:\n",
    "\n",
    "edad = mi_diccionario.get(\"edad\", \"Desconocida\")\n",
    "edad\n"
   ]
  },
  {
   "cell_type": "code",
   "execution_count": 45,
   "metadata": {},
   "outputs": [
    {
     "data": {
      "text/plain": [
       "'b'"
      ]
     },
     "execution_count": 45,
     "metadata": {},
     "output_type": "execute_result"
    }
   ],
   "source": [
    "# 15. Clave máxima:\n",
    "\n",
    "diccionario_numerico = {\"a\": 5, \"b\": 10, \"c\": 3}\n",
    "clave_maxima = max(diccionario_numerico, key=diccionario_numerico.get)\n",
    "clave_maxima\n"
   ]
  },
  {
   "cell_type": "code",
   "execution_count": 46,
   "metadata": {},
   "outputs": [
    {
     "data": {
      "text/plain": [
       "10"
      ]
     },
     "execution_count": 46,
     "metadata": {},
     "output_type": "execute_result"
    }
   ],
   "source": [
    "max(diccionario_numerico.values())"
   ]
  },
  {
   "cell_type": "markdown",
   "metadata": {},
   "source": [
    "# Sets"
   ]
  },
  {
   "cell_type": "code",
   "execution_count": 47,
   "metadata": {},
   "outputs": [
    {
     "data": {
      "text/plain": [
       "set()"
      ]
     },
     "execution_count": 47,
     "metadata": {},
     "output_type": "execute_result"
    }
   ],
   "source": [
    "# 1. Crear un conjunto vacío:\n",
    "mi_set = set()\n",
    "mi_set"
   ]
  },
  {
   "cell_type": "code",
   "execution_count": 48,
   "metadata": {},
   "outputs": [
    {
     "data": {
      "text/plain": [
       "{1, 2, 3}"
      ]
     },
     "execution_count": 48,
     "metadata": {},
     "output_type": "execute_result"
    }
   ],
   "source": [
    "# 2. Agregar elementos a un conjunto: \n",
    "mi_set.add(1)\n",
    "mi_set.add(2)\n",
    "mi_set.add(3)\n",
    "\n",
    "mi_set\n",
    "   "
   ]
  },
  {
   "cell_type": "code",
   "execution_count": 49,
   "metadata": {},
   "outputs": [
    {
     "data": {
      "text/plain": [
       "{1, 3}"
      ]
     },
     "execution_count": 49,
     "metadata": {},
     "output_type": "execute_result"
    }
   ],
   "source": [
    "# 3. Eliminar elementos de un conjunto:\n",
    "mi_set.remove(2)\n",
    "mi_set"
   ]
  },
  {
   "cell_type": "code",
   "execution_count": 50,
   "metadata": {},
   "outputs": [
    {
     "data": {
      "text/plain": [
       "True"
      ]
     },
     "execution_count": 50,
     "metadata": {},
     "output_type": "execute_result"
    }
   ],
   "source": [
    "# 4. Verificar pertenencia:\n",
    "existe = 3 in mi_set\n",
    "existe\n"
   ]
  },
  {
   "cell_type": "code",
   "execution_count": 51,
   "metadata": {},
   "outputs": [
    {
     "data": {
      "text/plain": [
       "{3, 4, 5}"
      ]
     },
     "execution_count": 51,
     "metadata": {},
     "output_type": "execute_result"
    }
   ],
   "source": [
    "# 5. Operaciones de conjuntos:\n",
    "set1 = {1, 2, 3, 4, 5}\n",
    "set2 = {3, 4, 5, 6, 7}\n",
    "interseccion = set1.intersection(set2)\n",
    "interseccion"
   ]
  },
  {
   "cell_type": "code",
   "execution_count": 52,
   "metadata": {},
   "outputs": [
    {
     "data": {
      "text/plain": [
       "{1, 2, 3, 4, 5, 6, 7}"
      ]
     },
     "execution_count": 52,
     "metadata": {},
     "output_type": "execute_result"
    }
   ],
   "source": [
    "# 6. Unión de conjuntos:\n",
    "union = set1.union(set2)\n",
    "union\n"
   ]
  },
  {
   "cell_type": "code",
   "execution_count": 53,
   "metadata": {},
   "outputs": [
    {
     "data": {
      "text/plain": [
       "{1, 2}"
      ]
     },
     "execution_count": 53,
     "metadata": {},
     "output_type": "execute_result"
    }
   ],
   "source": [
    "# 7. Diferencia de conjuntos:\n",
    "diferencia = set1.difference(set2)\n",
    "diferencia\n"
   ]
  },
  {
   "cell_type": "code",
   "execution_count": 54,
   "metadata": {},
   "outputs": [
    {
     "data": {
      "text/plain": [
       "False"
      ]
     },
     "execution_count": 54,
     "metadata": {},
     "output_type": "execute_result"
    }
   ],
   "source": [
    "# 8. Comparación de conjuntos:\n",
    "es_subconjunto = set1.issubset(set2)\n",
    "es_subconjunto"
   ]
  },
  {
   "cell_type": "code",
   "execution_count": 55,
   "metadata": {},
   "outputs": [
    {
     "data": {
      "text/plain": [
       "{1, 2, 3, 4, 5}"
      ]
     },
     "execution_count": 55,
     "metadata": {},
     "output_type": "execute_result"
    }
   ],
   "source": [
    "# 9. Eliminar elementos duplicados:\n",
    "\n",
    "mi_lista = [1, 2, 2, 3, 4, 4, 5]\n",
    "mi_conjunto = set(mi_lista)\n",
    "mi_conjunto"
   ]
  },
  {
   "cell_type": "code",
   "execution_count": 56,
   "metadata": {},
   "outputs": [
    {
     "data": {
      "text/plain": [
       "False"
      ]
     },
     "execution_count": 56,
     "metadata": {},
     "output_type": "execute_result"
    }
   ],
   "source": [
    "# 10. Comprobar igualdad de conjuntos:\n",
    "\n",
    "son_iguales = set1 == set2\n",
    "son_iguales"
   ]
  },
  {
   "cell_type": "markdown",
   "metadata": {},
   "source": [
    "# Sentencias de control\n"
   ]
  },
  {
   "cell_type": "markdown",
   "metadata": {},
   "source": [
    "##  1. Clasificación de triángulos:"
   ]
  },
  {
   "cell_type": "code",
   "execution_count": 57,
   "metadata": {},
   "outputs": [
    {
     "name": "stdout",
     "output_type": "stream",
     "text": [
      "Triangulo equilatero\n",
      "Triangulo equilatero\n"
     ]
    }
   ],
   "source": [
    "\n",
    "# Solicita al usuario la longitud del tercer lado del triángulo y almacena la entrada en la variable lado1.\n",
    "lado1 = input(\"Dime la longitud del tercer lado del triángulo\")\n",
    "\n",
    "# Comprueba si la entrada es un número entero (dígitos) utilizando el método .isdigit().\n",
    "if lado1.isdigit():\n",
    "    # Si es un número entero, convierte la cadena en un entero y asigna el valor a la variable lado1.\n",
    "    lado1 = int(lado1)\n",
    "else:\n",
    "    # Si la entrada no es un número entero, entra en un bucle while hasta que se proporcione una entrada válida.\n",
    "    while lado1.isdigit() == False:\n",
    "        # Solicita nuevamente al usuario una entrada válida (un número entero).\n",
    "        lado1 = input(\"Necesito que me pases un número ENTERO\")\n",
    "\n",
    "    # Después de obtener una entrada válida, convierte la cadena en un entero y asigna el valor a la variable lado1.\n",
    "    lado1 = int(lado1)\n",
    "\n",
    "\n",
    "# hacemos lo mismo para el lado2 y para el lado3\n",
    "\n",
    "lado2 = input(\"Dime la longitud del tercer lado del triangulo\")\n",
    "if lado2.isdigit():\n",
    "    lado2 = int(lado2)\n",
    "    \n",
    "else: \n",
    "    while lado2.isdigit() == False:\n",
    "        lado2 = input(\"Necesito que me pases un numero ENTERO\")\n",
    "\n",
    "    lado2 = int(lado2)\n",
    "\n",
    "\n",
    "lado3 = input(\"Dime la longitud del tercer lado del triangulo\")\n",
    "\n",
    "\n",
    "if lado3.isdigit():\n",
    "    lado3 = int(lado3)\n",
    "    \n",
    "else: \n",
    "    while lado3.isdigit() == False:\n",
    "        lado3 = input(\"Necesito que me pases un numero ENTERO\")\n",
    "\n",
    "    lado3 = int(lado3)\n",
    "    \n",
    "\n",
    "# SOLUCIÓN 1\n",
    "if lado1 == lado2 == lado3:\n",
    "    print(\"Triangulo equilatero\")\n",
    "\n",
    "elif lado1 == lado2 or lado1 == lado3 or lado2 == lado3:\n",
    "    print(\"Triangulo isosceles\")\n",
    "\n",
    "else:\n",
    "    print(\"Triangulo escaleno\")\n",
    "    \n",
    "\n",
    "# SOLUCIÓN 2\n",
    "if lado1 == lado2 == lado3:\n",
    "    print(\"Triangulo equilatero\")\n",
    "\n",
    "elif lado1 != lado2 != lado3 and lado1 != lado3:\n",
    "    print(\"Escaleno\")\n",
    "\n",
    "else:\n",
    "    print(\"Isosceles\")"
   ]
  },
  {
   "cell_type": "markdown",
   "metadata": {},
   "source": [
    "## 2. Conversión de temperatura:"
   ]
  },
  {
   "cell_type": "code",
   "execution_count": 58,
   "metadata": {},
   "outputs": [
    {
     "name": "stdout",
     "output_type": "stream",
     "text": [
      "25.0°C es igual a 77.0°F.\n"
     ]
    }
   ],
   "source": [
    "temperatura = float(input(\"Ingresa la temperatura: \"))\n",
    "unidad = input(\"Ingresa la unidad (C o F): \")\n",
    "\n",
    "if unidad.upper() == \"C\":\n",
    "    fahrenheit = (temperatura * 9/5) + 32\n",
    "    print(f\"{temperatura}°C es igual a {fahrenheit}°F.\")\n",
    "elif unidad.upper() == \"F\":\n",
    "    celsius = (temperatura - 32) * 5/9\n",
    "    print(f\"{temperatura}°F es igual a {celsius}°C.\")\n",
    "else:\n",
    "    print(\"Unidad no válida. Ingresa C o F.\")\n"
   ]
  },
  {
   "cell_type": "markdown",
   "metadata": {},
   "source": [
    "## 3. Cajero automático:"
   ]
  },
  {
   "cell_type": "code",
   "execution_count": 59,
   "metadata": {},
   "outputs": [
    {
     "name": "stdout",
     "output_type": "stream",
     "text": [
      "Tu saldo actual es: $1000\n",
      "Tu saldo actual es: $1025.0\n",
      "Tu saldo actual es: $969.0\n"
     ]
    }
   ],
   "source": [
    "\n",
    "# Saldo inicial del cajero automático\n",
    "saldo = 1000\n",
    "\n",
    "# Se ejecuta un bucle infinito que permite al usuario realizar operaciones hasta que decida salir.\n",
    "while True:\n",
    "    # Muestra el saldo actual del usuario.\n",
    "    print(f\"Tu saldo actual es: ${saldo}\")\n",
    "    \n",
    "    # Solicita al usuario que elija una opción: depositar, retirar o salir.\n",
    "    opcion = input(\"¿Qué deseas hacer? (depositar/retirar/salir): \")\n",
    "\n",
    "    # Si el usuario elige depositar, solicita la cantidad a depositar y la suma al saldo.\n",
    "    if opcion.lower() == \"depositar\":\n",
    "        monto = float(input(\"Ingresa la cantidad a depositar: \"))\n",
    "        saldo += monto\n",
    "    \n",
    "    # Si el usuario elige retirar, solicita la cantidad a retirar y la resta del saldo si hay suficiente.\n",
    "    elif opcion.lower() == \"retirar\":\n",
    "        monto = float(input(\"Ingresa la cantidad a retirar: \"))\n",
    "        if monto <= saldo:\n",
    "            saldo -= monto\n",
    "        else:\n",
    "            print(\"Saldo insuficiente.\")\n",
    "    \n",
    "    # Si el usuario elige salir, sale del bucle y termina el programa.\n",
    "    elif opcion.lower() == \"salir\":\n",
    "        break\n",
    "    \n",
    "    # Si el usuario ingresa una opción no válida, muestra un mensaje de error.\n",
    "    else:\n",
    "        print(\"Opción no válida. Intenta de nuevo.\")\n",
    "\n"
   ]
  },
  {
   "cell_type": "markdown",
   "metadata": {},
   "source": [
    "## 4. Calculadora de descuento:"
   ]
  },
  {
   "cell_type": "code",
   "execution_count": 60,
   "metadata": {},
   "outputs": [
    {
     "ename": "ValueError",
     "evalue": "could not convert string to float: ''",
     "output_type": "error",
     "traceback": [
      "\u001b[0;31m---------------------------------------------------------------------------\u001b[0m",
      "\u001b[0;31mValueError\u001b[0m                                Traceback (most recent call last)",
      "Input \u001b[0;32mIn [60]\u001b[0m, in \u001b[0;36m<cell line: 2>\u001b[0;34m()\u001b[0m\n\u001b[1;32m      1\u001b[0m \u001b[38;5;66;03m# Solicita al usuario que ingrese el precio original del producto y el porcentaje de descuento.\u001b[39;00m\n\u001b[0;32m----> 2\u001b[0m precio_original \u001b[38;5;241m=\u001b[39m \u001b[38;5;28;43mfloat\u001b[39;49m\u001b[43m(\u001b[49m\u001b[38;5;28;43minput\u001b[39;49m\u001b[43m(\u001b[49m\u001b[38;5;124;43m\"\u001b[39;49m\u001b[38;5;124;43mIngresa el precio original del producto: \u001b[39;49m\u001b[38;5;124;43m\"\u001b[39;49m\u001b[43m)\u001b[49m\u001b[43m)\u001b[49m\n\u001b[1;32m      3\u001b[0m porcentaje_descuento \u001b[38;5;241m=\u001b[39m \u001b[38;5;28mfloat\u001b[39m(\u001b[38;5;28minput\u001b[39m(\u001b[38;5;124m\"\u001b[39m\u001b[38;5;124mIngresa el porcentaje de descuento: \u001b[39m\u001b[38;5;124m\"\u001b[39m))\n\u001b[1;32m      5\u001b[0m \u001b[38;5;66;03m# Calcula el descuento restando el porcentaje de descuento del precio original.\u001b[39;00m\n",
      "\u001b[0;31mValueError\u001b[0m: could not convert string to float: ''"
     ]
    }
   ],
   "source": [
    "\n",
    "# Solicita al usuario que ingrese el precio original del producto y el porcentaje de descuento.\n",
    "precio_original = float(input(\"Ingresa el precio original del producto: \"))\n",
    "porcentaje_descuento = float(input(\"Ingresa el porcentaje de descuento: \"))\n",
    "\n",
    "# Calcula el descuento restando el porcentaje de descuento del precio original.\n",
    "descuento = precio_original * (porcentaje_descuento / 100)\n",
    "\n",
    "# Calcula el precio final restando el descuento al precio original.\n",
    "precio_final = precio_original - descuento\n",
    "\n",
    "# Muestra el precio final con dos decimales.\n",
    "print(f\"El precio final después del descuento es: ${precio_final:.2f}\")\n",
    "\n",
    "# Muestra el monto de ahorro con dos decimales.\n",
    "print(f\"Ahorras: ${descuento:.2f}\")\n"
   ]
  },
  {
   "cell_type": "markdown",
   "metadata": {},
   "source": [
    "## 5. Cálculo de promedio de calificaciones:"
   ]
  },
  {
   "cell_type": "code",
   "execution_count": null,
   "metadata": {},
   "outputs": [],
   "source": [
    "# Solicita al usuario que ingrese el número de calificaciones que desea promediar.\n",
    "num_calificaciones = int(input(\"Ingrese el número de calificaciones: \"))\n",
    "calificaciones = []\n",
    "\n",
    "# Crea una lista llamada 'calificaciones' para almacenar las calificaciones ingresadas.\n",
    "for _ in range(num_calificaciones):\n",
    "    calificacion = float(input(\"Ingrese una calificación: \"))\n",
    "    calificaciones.append(calificacion)\n",
    "\n",
    "# Calcula el promedio de las calificaciones sumándolas y dividiéndolas por el número de calificaciones.\n",
    "promedio = sum(calificaciones) / num_calificaciones\n",
    "\n",
    "# Muestra el promedio con dos decimales.\n",
    "print(f\"El promedio de calificaciones es: {promedio:.2f}\")\n",
    "\n",
    "# Comprueba si el promedio es mayor o igual a 5 (aprobado) y muestra un mensaje apropiado.\n",
    "if promedio >= 5:\n",
    "    print(\"¡Aprobado!\")\n",
    "else:\n",
    "    print(\"No aprobado.\")\n"
   ]
  },
  {
   "cell_type": "markdown",
   "metadata": {},
   "source": [
    "## 6. Generador de contraseñas seguras:"
   ]
  },
  {
   "cell_type": "code",
   "execution_count": null,
   "metadata": {},
   "outputs": [],
   "source": [
    "\n",
    "import random\n",
    "import string\n",
    "\n",
    "# Solicita al usuario que ingrese la longitud deseada de la contraseña y las preferencias para incluir números, mayúsculas, minúsculas y caracteres especiales.\n",
    "longitud = int(input(\"Ingrese la longitud de la contraseña: \"))\n",
    "usar_numeros = input(\"¿Incluir números? (s/n): \").lower() == \"s\"\n",
    "usar_mayusculas = input(\"¿Incluir letras mayúsculas? (s/n): \").lower() == \"s\"\n",
    "usar_minusculas = input(\"¿Incluir letras minúsculas? (s/n): \").lower() == \"s\"\n",
    "usar_especiales = input(\"¿Incluir caracteres especiales? (s/n): \").lower() == \"s\"\n",
    "\n",
    "caracteres = \"\"\n",
    "\n",
    "# Construye una cadena 'caracteres' que contendrá los caracteres permitidos según las preferencias del usuario.\n",
    "if usar_numeros:\n",
    "    caracteres += string.digits\n",
    "if usar_mayusculas:\n",
    "    caracteres += string.ascii_uppercase\n",
    "if usar_minusculas:\n",
    "    caracteres += string.ascii_lowercase\n",
    "if usar_especiales:\n",
    "    caracteres += string.punctuation\n",
    "\n",
    "# Verifica si el usuario ha seleccionado al menos una opción válida.\n",
    "if not (usar_numeros or usar_mayusculas or usar_minusculas or usar_especiales):\n",
    "    print(\"Debes seleccionar al menos una opción.\")\n",
    "else:\n",
    "    # Genera una contraseña aleatoria utilizando los caracteres permitidos y la longitud especificada.\n",
    "    contraseña = ''.join(random.choice(caracteres) for _ in range(longitud))\n",
    "    print(f\"Contraseña generada: {contraseña}\")\n",
    "\n"
   ]
  },
  {
   "cell_type": "markdown",
   "metadata": {},
   "source": [
    "## 7. Calculadora de edad de perros:"
   ]
  },
  {
   "cell_type": "code",
   "execution_count": null,
   "metadata": {},
   "outputs": [],
   "source": [
    "# Solicita al usuario que ingrese la edad de su perro en años.\n",
    "edad_perro = float(input(\"Ingrese la edad de su perro en años: \"))\n",
    "\n",
    "# Calcula la edad en años humanos según la edad del perro proporcionada.\n",
    "if edad_perro <= 2:\n",
    "    edad_humana = edad_perro * 10.5\n",
    "else:\n",
    "    edad_humana = 21 + (edad_perro - 2) * 4\n",
    "\n",
    "# Muestra la edad del perro en años humanos con un decimal.\n",
    "print(f\"La edad de su perro en años humanos es aproximadamente: {edad_humana:.1f} años\")\n",
    "\n"
   ]
  },
  {
   "cell_type": "markdown",
   "metadata": {},
   "source": [
    "## 8. Simulador de ruleta:"
   ]
  },
  {
   "cell_type": "code",
   "execution_count": null,
   "metadata": {},
   "outputs": [],
   "source": [
    "# Solicita al usuario que ingrese la cantidad de dinero a apostar, el número en el que desea apostar y el color en el que desea apostar.\n",
    "monto_apuesta = float(input(\"Ingrese la cantidad de dinero a apostar: \"))\n",
    "numero_apostado = int(input(\"Ingrese el número en el que desea apostar (0-36): \"))\n",
    "color_apostado = input(\"Ingrese el color en el que desea apostar (rojo/negro): \").lower()\n",
    "\n",
    "# Genera un número aleatorio entre 0 y 36 que representa el número ganador en la ruleta.\n",
    "numero_ganador = random.randint(0, 36)\n",
    "\n",
    "# Muestra el número ganador en la ruleta.\n",
    "print(f\"El número ganador es: {numero_ganador}\")\n",
    "\n",
    "# Comprueba si el número apostado coincide con el número ganador.\n",
    "if numero_apostado == numero_ganador:\n",
    "    monto_ganado = monto_apuesta * 36  # El pago es 35 a 1 (36 veces la apuesta original)\n",
    "    print(f\"¡Felicidades! Ganaste ${monto_ganado:.2f}\")\n",
    "    \n",
    "# Comprueba si el color apostado coincide con el color del número ganador (rojo o negro).\n",
    "elif color_apostado == 'rojo' and numero_ganador % 2 == 1:\n",
    "    monto_ganado = monto_apuesta * 2\n",
    "    print(f\"¡Felicidades! Ganaste ${monto_ganado:.2f}\")\n",
    "    \n",
    "elif color_apostado == 'negro' and numero_ganador % 2 == 0:\n",
    "    monto_ganado = monto_apuesta * 2\n",
    "    print(f\"¡Felicidades! Ganaste ${monto_ganado:.2f}\")\n",
    "    \n",
    "# Si no se cumple ninguna de las condiciones anteriores, el jugador pierde su apuesta.\n",
    "else:\n",
    "    print(\"Lo siento, perdiste.\")\n"
   ]
  },
  {
   "cell_type": "markdown",
   "metadata": {},
   "source": [
    "# while"
   ]
  },
  {
   "cell_type": "markdown",
   "metadata": {},
   "source": [
    "## 1. Contador Regresivo:"
   ]
  },
  {
   "cell_type": "code",
   "execution_count": null,
   "metadata": {},
   "outputs": [],
   "source": [
    "# Solicita al usuario que ingrese un número para contar hacia abajo.\n",
    "numero = int(input(\"Ingresa un número para contar hacia abajo: \"))\n",
    "\n",
    "# Inicia un bucle while que se ejecutará mientras el número sea mayor o igual a 0.\n",
    "while numero >= 0:\n",
    "    # Imprime el valor actual de 'numero'.\n",
    "    print(numero)\n",
    "    \n",
    "    # Resta 1 al valor de 'numero' en cada iteración para contar hacia abajo.\n",
    "    numero -= 1\n"
   ]
  },
  {
   "cell_type": "markdown",
   "metadata": {},
   "source": [
    "## 2. Adivina el Número:"
   ]
  },
  {
   "cell_type": "code",
   "execution_count": null,
   "metadata": {},
   "outputs": [],
   "source": [
    "\n",
    "import random\n",
    "\n",
    "# Genera un número aleatorio entre 1 y 20 que el usuario debe adivinar.\n",
    "numero_aleatorio = random.randint(1, 20)\n",
    "intentos = 0  # Inicializa el contador de intentos en 0.\n",
    "\n",
    "# Inicia un bucle while que se ejecutará hasta que el usuario adivine el número.\n",
    "while True:\n",
    "    intento = int(input(\"Adivina el número (entre 1 y 20): \"))  # Solicita un intento al usuario.\n",
    "    intentos += 1  # Incrementa el contador de intentos en cada intento.\n",
    "\n",
    "    # Comprueba si el intento del usuario coincide con el número aleatorio.\n",
    "    if intento == numero_aleatorio:\n",
    "        print(f\"¡Correcto! Adivinaste el número en {intentos} intentos.\")\n",
    "        break  # Sale del bucle ya que el usuario adivinó el número.\n",
    "    elif intento < numero_aleatorio:\n",
    "        print(\"El número es mayor. Intenta nuevamente.\")\n",
    "    else:\n",
    "        print(\"El número es menor. Intenta nuevamente.\")\n"
   ]
  },
  {
   "cell_type": "markdown",
   "metadata": {},
   "source": [
    "## 3. Calculadora Simple:"
   ]
  },
  {
   "cell_type": "code",
   "execution_count": null,
   "metadata": {},
   "outputs": [],
   "source": [
    "while True:\n",
    "    num1 = float(input(\"Ingresa el primer número: \"))  # Solicita al usuario que ingrese el primer número.\n",
    "    operador = input(\"Ingresa un operador (+, -, *, /) o 'q' para salir: \")  # Solicita al usuario que ingrese un operador o 'q' para salir.\n",
    "\n",
    "    if operador == 'q':\n",
    "        break  # Si el usuario ingresa 'q', sale del bucle.\n",
    "\n",
    "    num2 = float(input(\"Ingresa el segundo número: \"))  # Solicita al usuario que ingrese el segundo número.\n",
    "\n",
    "    if operador == '+':\n",
    "        resultado = num1 + num2\n",
    "    elif operador == '-':\n",
    "        resultado = num1 - num2\n",
    "    elif operador == '*':\n",
    "        resultado = num1 * num2\n",
    "    elif operador == '/':\n",
    "        if num2 == 0:\n",
    "            print(\"Error: No se puede dividir por cero.\")\n",
    "            continue  # Si el denominador es cero, muestra un error y continúa al siguiente ciclo del bucle.\n",
    "        resultado = num1 / num2\n",
    "    else:\n",
    "        print(\"Operador no válido. Intenta nuevamente.\")\n",
    "        continue  # Si el operador no es válido, muestra un error y continúa al siguiente ciclo del bucle.\n",
    "\n",
    "    print(f\"Resultado: {resultado}\")  # Muestra el resultado del cálculo al usuario.\n",
    "\n",
    "\n"
   ]
  },
  {
   "cell_type": "markdown",
   "metadata": {},
   "source": [
    "## 4. Conversión de Unidades:"
   ]
  },
  {
   "cell_type": "code",
   "execution_count": 1,
   "metadata": {},
   "outputs": [
    {
     "name": "stdout",
     "output_type": "stream",
     "text": [
      "Opción no válida. Intenta nuevamente.\n"
     ]
    }
   ],
   "source": [
    "# Se inicia un bucle while que se ejecutará indefinidamente hasta que el usuario elija salir.\n",
    "opt = True\n",
    "while opt == True:\n",
    "    # Se solicita al usuario que elija una conversión o salir.\n",
    "    opcion = input(\"Elige una conversión (1: Celsius a Fahrenheit, 2: Kilómetros a Millas, q: Salir): \")\n",
    "\n",
    "    if opcion == 'q':\n",
    "        #break  # Si el usuario ingresa 'q', el programa sale del bucle y finaliza.\n",
    "        opt = False\n",
    "    if opcion == '1':\n",
    "        # Si el usuario elige la conversión de Celsius a Fahrenheit, se solicita la temperatura en grados Celsius.\n",
    "        celsius = float(input(\"Ingresa la temperatura en grados Celsius: \"))\n",
    "        \n",
    "        # Se realiza la conversión y se muestra el resultado.\n",
    "        fahrenheit = (celsius * 9/5) + 32\n",
    "        print(f\"{celsius} grados Celsius son equivalentes a {fahrenheit} grados Fahrenheit.\")\n",
    "    elif opcion == '2':\n",
    "        # Si el usuario elige la conversión de kilómetros a millas, se solicita la distancia en kilómetros.\n",
    "        kilometros = float(input(\"Ingresa la distancia en kilómetros: \"))\n",
    "        \n",
    "        # Se realiza la conversión y se muestra el resultado.\n",
    "        millas = kilometros * 0.621371\n",
    "        print(f\"{kilometros} kilómetros son equivalentes a {millas} millas.\")\n",
    "    else:\n",
    "        print(\"Opción no válida. Intenta nuevamente.\")  # Si la opción no es válida, muestra un mensaje de error y continúa el bucle.\n",
    "\n",
    "# El programa finaliza cuando el usuario elige salir ('q').\n"
   ]
  },
  {
   "cell_type": "markdown",
   "metadata": {},
   "source": [
    "# Cosas extra que hemos aprendido hoy"
   ]
  },
  {
   "cell_type": "markdown",
   "metadata": {},
   "source": [
    "## ¿Qué es una librería? \n",
    "\n",
    "Imagina que Python es como un conjunto de herramientas para hacer diferentes tareas en la computadora, como matemáticas, manejar archivos, trabajar con internet y mucho más. Estas herramientas básicas se llaman \"funciones\" y \"comandos\" en Python.\n",
    "\n",
    "Una biblioteca en Python es como una caja llena de herramientas adicionales que puedes agregar a tu conjunto básico. Estas herramientas adicionales te permiten hacer tareas más específicas y complejas sin tener que crear todo desde cero. Es como si alguien te diera una caja de herramientas especializada para hacer carpintería, otra para reparar automóviles y así sucesivamente.\n",
    "\n",
    "Entonces, una biblioteca es como una colección de funciones y comandos prehechos que otros programadores han creado para que tú puedas usar en tus programas. Te ahorra tiempo y esfuerzo, ya que no tienes que inventar todo desde cero cada vez que necesitas realizar una tarea específica."
   ]
  },
  {
   "cell_type": "markdown",
   "metadata": {},
   "source": [
    "## Librería string\n",
    "\n",
    "La biblioteca `string` en Python es un módulo incorporado que proporciona una colección de constantes y funciones relacionadas con caracteres y cadenas. Se utiliza para realizar diversas operaciones y manipulaciones de texto, como formatear cadenas, trabajar con caracteres específicos, verificar propiedades de caracteres, generar secuencias de caracteres y más.\n",
    "\n",
    "Algunas de las utilidades comunes de la biblioteca `string` incluyen:\n",
    "\n",
    "1. Formatear y manipular cadenas de texto.\n",
    "2. Generar contraseñas aleatorias.\n",
    "3. Validar y limpiar datos de entrada, como nombres de archivo o rutas.\n",
    "4. Trabajar con caracteres específicos, como dígitos, letras mayúsculas o minúsculas, y caracteres de puntuación.\n"
   ]
  },
  {
   "cell_type": "code",
   "execution_count": 5,
   "metadata": {},
   "outputs": [],
   "source": [
    "import string"
   ]
  },
  {
   "cell_type": "code",
   "execution_count": 6,
   "metadata": {},
   "outputs": [
    {
     "data": {
      "text/plain": [
       "'abcdefghijklmnopqrstuvwxyz'"
      ]
     },
     "execution_count": 6,
     "metadata": {},
     "output_type": "execute_result"
    }
   ],
   "source": [
    "# devuelve todas las letras en minúscula\n",
    "string.ascii_lowercase"
   ]
  },
  {
   "cell_type": "code",
   "execution_count": 7,
   "metadata": {},
   "outputs": [
    {
     "data": {
      "text/plain": [
       "'ABCDEFGHIJKLMNOPQRSTUVWXYZ'"
      ]
     },
     "execution_count": 7,
     "metadata": {},
     "output_type": "execute_result"
    }
   ],
   "source": [
    "# devuelve todas las letras en mayúscula\n",
    "string.ascii_uppercase"
   ]
  },
  {
   "cell_type": "code",
   "execution_count": 8,
   "metadata": {},
   "outputs": [
    {
     "data": {
      "text/plain": [
       "'0123456789'"
      ]
     },
     "execution_count": 8,
     "metadata": {},
     "output_type": "execute_result"
    }
   ],
   "source": [
    "# devuelve todos los números\n",
    "string.digits"
   ]
  },
  {
   "cell_type": "code",
   "execution_count": 9,
   "metadata": {},
   "outputs": [
    {
     "data": {
      "text/plain": [
       "'!\"#$%&\\'()*+,-./:;<=>?@[\\\\]^_`{|}~'"
      ]
     },
     "execution_count": 9,
     "metadata": {},
     "output_type": "execute_result"
    }
   ],
   "source": [
    "# devuelve caracteres especiales\n",
    "string.punctuation"
   ]
  },
  {
   "cell_type": "code",
   "execution_count": 20,
   "metadata": {},
   "outputs": [
    {
     "data": {
      "text/plain": [
       "0.0"
      ]
     },
     "execution_count": 20,
     "metadata": {},
     "output_type": "execute_result"
    }
   ],
   "source": [
    "num = \"\\u0030\"\n",
    "float(num)"
   ]
  },
  {
   "cell_type": "markdown",
   "metadata": {},
   "source": [
    "## Librería random\n",
    "\n",
    "La librería `random` proporciona funciones para generar números aleatorios y realizar operaciones relacionadas con la aleatoriedad. Es ampliamente utilizada en programación para realizar tareas que requieren elementos aleatorios, como juegos, simulaciones y pruebas. Algunas de las funciones comunes en la librería `random` incluyen `random.randint()`, `random.choice()`, y `random.sample()`.\n"
   ]
  },
  {
   "cell_type": "code",
   "execution_count": 27,
   "metadata": {},
   "outputs": [],
   "source": [
    "import random\n"
   ]
  },
  {
   "cell_type": "code",
   "execution_count": 31,
   "metadata": {},
   "outputs": [
    {
     "data": {
      "text/plain": [
       "6"
      ]
     },
     "execution_count": 31,
     "metadata": {},
     "output_type": "execute_result"
    }
   ],
   "source": [
    "random.randint(1,10)"
   ]
  },
  {
   "cell_type": "code",
   "execution_count": 30,
   "metadata": {},
   "outputs": [
    {
     "name": "stdout",
     "output_type": "stream",
     "text": [
      "Números aleatorios únicos: [6, 5, 3, 2, 4]\n"
     ]
    }
   ],
   "source": [
    "\n",
    "cantidad = 5\n",
    "numeros_aleatorios = random.sample([1,2,3,4,5,6], cantidad)\n",
    "\n",
    "print(\"Números aleatorios únicos:\", numeros_aleatorios)"
   ]
  },
  {
   "cell_type": "code",
   "execution_count": 28,
   "metadata": {},
   "outputs": [
    {
     "data": {
      "text/plain": [
       "'uno'"
      ]
     },
     "execution_count": 28,
     "metadata": {},
     "output_type": "execute_result"
    }
   ],
   "source": [
    "lista = [\"uno\", \"dos\", \"tres\"]\n",
    "random.choice(lista)"
   ]
  },
  {
   "cell_type": "markdown",
   "metadata": {},
   "source": []
  }
 ],
 "metadata": {
  "kernelspec": {
   "display_name": "promoe",
   "language": "python",
   "name": "python3"
  },
  "language_info": {
   "codemirror_mode": {
    "name": "ipython",
    "version": 3
   },
   "file_extension": ".py",
   "mimetype": "text/x-python",
   "name": "python",
   "nbconvert_exporter": "python",
   "pygments_lexer": "ipython3",
   "version": "3.9.12"
  },
  "orig_nbformat": 4
 },
 "nbformat": 4,
 "nbformat_minor": 2
}
